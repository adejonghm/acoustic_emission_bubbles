{
 "cells": [
  {
   "cell_type": "markdown",
   "metadata": {},
   "source": [
    "# Working with videos using OpenCV\n",
    "\n",
    "This notebook was developed to obtain information about a video such as frames rate per second, the total of frames and duration of the video. <br>\n",
    "\n",
    "This notebook and other you can find in the following link: <a href=\"https://github.com/adejonghm/master_code\" target=\"_blank\"> My Github </a> <br>"
   ]
  },
  {
   "cell_type": "markdown",
   "metadata": {},
   "source": [
    "### Importing Libraries and Creating Functions."
   ]
  },
  {
   "cell_type": "code",
   "execution_count": null,
   "metadata": {},
   "outputs": [],
   "source": [
    "import os\n",
    "import shutil\n",
    "import csv\n",
    "import cv2\n",
    "from tqdm import tqdm\n",
    "from IPython.display import clear_output\n",
    "\n",
    "def separate(input_path, output_path):\n",
    "    VIDEO = cv2.VideoCapture(input_path)\n",
    "    NUMBER_FRAMES = int(VIDEO.get(cv2.CAP_PROP_FRAME_COUNT))\n",
    "    FPS = int(round(VIDEO.get(cv2.CAP_PROP_FPS), 0))\n",
    "    LENGTH = NUMBER_FRAMES\n",
    "    \n",
    "    if NUMBER_FRAMES % FPS != 0:\n",
    "        TIME = NUMBER_FRAMES // FPS\n",
    "        LENGTH = TIME * FPS\n",
    "    \n",
    "    for i in tqdm(range(LENGTH)):\n",
    "        # ****** Reading video frames ******\n",
    "        FLAG, FRAME = VIDEO.read()\n",
    "        \n",
    "        # ****** Writing video frames ******\n",
    "        cv2.imwrite(output_path + 'frame_{}.jpg'.format(i+1), FRAME)\n",
    "#         print(output_path + 'frame_{}.jpg'.format(i+1))\n",
    "        \n",
    "    # ****** Releasing video ******\n",
    "    VIDEO.release()\n",
    "    cv2.destroyAllWindows()"
   ]
  },
  {
   "cell_type": "markdown",
   "metadata": {},
   "source": [
    "### Obtaining Video Information."
   ]
  },
  {
   "cell_type": "code",
   "execution_count": null,
   "metadata": {},
   "outputs": [],
   "source": [
    "# ****** Loading video ******\n",
    "INPUT_FILE = input('Enter the full name of the video: ')\n",
    "CAP = cv2.VideoCapture(INPUT_FILE)\n",
    "\n",
    "# ****** Getting information ******\n",
    "FPS = CAP.get(cv2.CAP_PROP_FPS)\n",
    "FRAME_COUNT = int(CAP.get(cv2.CAP_PROP_FRAME_COUNT))\n",
    "DURATION = FRAME_COUNT / FPS\n",
    "MINUTES = int(DURATION / 60)\n",
    "SECONDS = DURATION % 60\n",
    "\n",
    "clear_output()\n",
    "\n",
    "print('-------')\n",
    "print('FPS: {}'.format(FPS))\n",
    "print('Number of Frames: {}'.format(FRAME_COUNT))\n",
    "print('Duration(M:S): {}:{}'.format(MINUTES, SECONDS))\n",
    "\n",
    "CAP.release()"
   ]
  },
  {
   "cell_type": "markdown",
   "metadata": {},
   "source": [
    "### Separating One Video by Frames\n",
    "The next cell can separate a video frame by frame. The output file is created into the same folder that the notebook file or line 5 can be used to replace line 6, to enter the specific full output path.\n",
    "<br>\n",
    "<br>\n",
    "<u>WARNING</u>: In case of the output folder exists, it will be deleted before."
   ]
  },
  {
   "cell_type": "code",
   "execution_count": null,
   "metadata": {},
   "outputs": [],
   "source": [
    "# ****** Loading video ******\n",
    "INPUT_FILE = input('Enter the full path of the video: ')\n",
    "\n",
    "# ****** Creating output folder ******\n",
    "# OUTPUT = input('Enter the full path of the output video: ')\n",
    "OUTPUT = './Frames/'\n",
    "if os.path.exists(OUTPUT):\n",
    "    shutil.rmtree(OUTPUT)\n",
    "    os.makedirs(OUTPUT)\n",
    "else:\n",
    "    os.makedirs(OUTPUT)\n",
    "\n",
    "clear_output()\n",
    "\n",
    "# ****** Separating frames ******\n",
    "separate(INPUT_FILE, OUTPUT)"
   ]
  },
  {
   "cell_type": "markdown",
   "metadata": {},
   "source": [
    "### Separating Videos by Frames\n",
    "The next cell can separate many videos (placed in the same folder) frame by frame. This cell was developed specifically for AVI videos, where information such as the name of the video file, the data needed to create the name of the output, and others, are found in a CSV file that is found along with the videos. The output file is created into the same folder that the notebook file or line 5 can be used to replace line 6, to enter the specific full output path.\n",
    "<br>\n",
    "<br>\n",
    "<u>WARNING</u>: In case of the output folder exists, it will be deleted before."
   ]
  },
  {
   "cell_type": "code",
   "execution_count": null,
   "metadata": {},
   "outputs": [],
   "source": [
    "# ****** Loading video ******\n",
    "INPUT_PATH = input('Enter the full path of the folder with videos:')\n",
    "\n",
    "# ****** Creating OUTPUT_PATH folder ******\n",
    "# OUTPUT = input('Enter the full path of the output video: ')\n",
    "OUTPUT_PATH = './Frames/'\n",
    "if os.path.exists(OUTPUT_PATH):\n",
    "    shutil.rmtree(OUTPUT_PATH)\n",
    "    os.makedirs(OUTPUT_PATH)\n",
    "else:\n",
    "    os.makedirs(OUTPUT_PATH)\n",
    "\n",
    "# ****** Creating a list with the names of video files ****** \n",
    "FILENAMES = []\n",
    "for row in sorted(os.listdir(INPUT_PATH)):\n",
    "    if '.avi' in row:\n",
    "        FILENAMES.append(row.split('.')[0])\n",
    "\n",
    "# ****** Loading CSV File ******\n",
    "OPENFILE = open(INPUT_PATH + 'measurements.csv')\n",
    "READFILE = csv.reader(OPENFILE)\n",
    "\n",
    "i = 0\n",
    "for row in READFILE:    \n",
    "    NAME = (row[2].split('_'))[1] + '_' + 'd' + row[0] + '_' + 'fps' + row[1] + '/'\n",
    "    \n",
    "    if FILENAMES[i] in row:\n",
    "        TEMPORAL_PATH = OUTPUT_PATH + NAME\n",
    "        os.makedirs(TEMPORAL_PATH)\n",
    "        VIDEO = INPUT_PATH + FILENAMES[i] + '.avi'\n",
    "        separate(VIDEO, TEMPORAL_PATH)\n",
    "        i += 1\n",
    "\n",
    "OPENFILE.close()"
   ]
  }
 ],
 "metadata": {
  "kernelspec": {
   "display_name": "Python 3",
   "language": "python",
   "name": "python3"
  },
  "language_info": {
   "codemirror_mode": {
    "name": "ipython",
    "version": 3
   },
   "file_extension": ".py",
   "mimetype": "text/x-python",
   "name": "python",
   "nbconvert_exporter": "python",
   "pygments_lexer": "ipython3",
   "version": "3.6.9"
  },
  "latex_envs": {
   "LaTeX_envs_menu_present": true,
   "autoclose": false,
   "autocomplete": true,
   "bibliofile": "biblio.bib",
   "cite_by": "apalike",
   "current_citInitial": 1,
   "eqLabelWithNumbers": true,
   "eqNumInitial": 1,
   "hotkeys": {
    "equation": "Ctrl-E",
    "itemize": "Ctrl-I"
   },
   "labels_anchors": false,
   "latex_user_defs": false,
   "report_style_numbering": false,
   "user_envs_cfg": false
  },
  "varInspector": {
   "cols": {
    "lenName": 16,
    "lenType": 16,
    "lenVar": 40
   },
   "kernels_config": {
    "python": {
     "delete_cmd_postfix": "",
     "delete_cmd_prefix": "del ",
     "library": "var_list.py",
     "varRefreshCmd": "print(var_dic_list())"
    },
    "r": {
     "delete_cmd_postfix": ") ",
     "delete_cmd_prefix": "rm(",
     "library": "var_list.r",
     "varRefreshCmd": "cat(var_dic_list()) "
    }
   },
   "oldHeight": 313.02078,
   "position": {
    "height": "40px",
    "left": "1225.72px",
    "right": "20px",
    "top": "119.969px",
    "width": "523.021px"
   },
   "types_to_exclude": [
    "module",
    "function",
    "builtin_function_or_method",
    "instance",
    "_Feature"
   ],
   "varInspector_section_display": "none",
   "window_display": false
  }
 },
 "nbformat": 4,
 "nbformat_minor": 2
}
