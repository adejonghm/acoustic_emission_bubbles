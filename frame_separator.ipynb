{
 "cells": [
  {
   "cell_type": "markdown",
   "metadata": {},
   "source": [
    "### Video Analisys\n",
    "\n",
    "Extracting video information."
   ]
  },
  {
   "cell_type": "code",
   "execution_count": 1,
   "metadata": {},
   "outputs": [
    {
     "name": "stdout",
     "output_type": "stream",
     "text": [
      "-------\n",
      "fps = 25.0\n",
      "number of frames = 910\n",
      "duration (S) = 36.4\n",
      "duration (M:S) = 0:36.4\n"
     ]
    }
   ],
   "source": [
    "import cv2\n",
    "\n",
    "# nombre = input('Enter the full name of the video: ')\n",
    "# url = '/media/dejongh/Data/Experimentos/00.Mis_Experimentos/2019.05.03/' + nombre + '.MP4'\n",
    "\n",
    "# url = '/home/dejongh/Desktop/capture_1711.avi'\n",
    "url = '/home/dejongh/Videos/02-Motorola - Up-upgrade.mp4'\n",
    "cap = cv2.VideoCapture(url)\n",
    "fps = cap.get(cv2.CAP_PROP_FPS)      # OpenCV2 version 2 used \"CV_CAP_PROP_FPS\"\n",
    "frame_count = int(cap.get(cv2.CAP_PROP_FRAME_COUNT))\n",
    "\n",
    "duration = frame_count/fps\n",
    "minutes = int(duration/60)\n",
    "seconds = duration%60\n",
    "\n",
    "print('-------')\n",
    "print('fps = {}'.format(fps))\n",
    "print('number of frames = {}'.format(frame_count))\n",
    "print('duration (S) = {}'.format(duration))\n",
    "print('duration (M:S) = {}:{}'.format(minutes, round(seconds, 1)))\n",
    "\n",
    "cap.release()"
   ]
  },
  {
   "cell_type": "markdown",
   "metadata": {},
   "source": [
    "### Frame Separator\n",
    "This script separates a video frame by frame, and saves them in a folder called \"frames\", created in the Picture folder. <br>\n",
    "<b>save</b>: '<u>/home/dejongh/Pictures/Frames/</u>'\n",
    "\n",
    "#### Descripcion:\n",
    "Script acomodado para extraer 3600 frames de los videos de experimentos en el tanque de naval. Videos de 1.40 min pero necesarios el 1 min."
   ]
  },
  {
   "cell_type": "code",
   "execution_count": 1,
   "metadata": {},
   "outputs": [
    {
     "name": "stderr",
     "output_type": "stream",
     "text": [
      "100%|██████████| 3600/3600 [01:07<00:00, 53.11it/s]\n"
     ]
    }
   ],
   "source": [
    "import os\n",
    "import shutil\n",
    "import cv2\n",
    "from tqdm import tqdm\n",
    "\n",
    "# ****** Loading video ******\n",
    "# FILENAME = input('Enter the full name of the video:')\n",
    "PATH = '/home/dejongh/Desktop/MVI_0113.MP4'\n",
    "VIDEO = cv2.VideoCapture(PATH)\n",
    "\n",
    "# ****** Creating output folder ******\n",
    "if os.path.exists('/home/dejongh/Pictures/Frames/'):\n",
    "    shutil.rmtree('/home/dejongh/Pictures/Frames/')\n",
    "    os.makedirs('/home/dejongh/Pictures/Frames/')\n",
    "else:\n",
    "    os.makedirs('/home/dejongh/Pictures/Frames/')\n",
    "\n",
    "for i in tqdm(range(3600)):\n",
    "\n",
    "    # ****** Reading video frames ******\n",
    "    FLAG, FRAME = VIDEO.read()\n",
    "    \n",
    "    # ****** Writing video frames ******\n",
    "#     if FLAG:\n",
    "    cv2.imwrite('/home/dejongh/Pictures/Frames/frame_{}.jpg'.format(i+1), FRAME)\n",
    "\n",
    "# ****** releasing video ******\n",
    "VIDEO.release()\n",
    "cv2.destroyAllWindows()\n",
    "# print('DONE! {} frames generated'.format(i))\n"
   ]
  }
 ],
 "metadata": {
  "kernelspec": {
   "display_name": "Python 3",
   "language": "python",
   "name": "python3"
  },
  "language_info": {
   "codemirror_mode": {
    "name": "ipython",
    "version": 3
   },
   "file_extension": ".py",
   "mimetype": "text/x-python",
   "name": "python",
   "nbconvert_exporter": "python",
   "pygments_lexer": "ipython3",
   "version": "3.6.8"
  },
  "latex_envs": {
   "LaTeX_envs_menu_present": true,
   "autoclose": false,
   "autocomplete": true,
   "bibliofile": "biblio.bib",
   "cite_by": "apalike",
   "current_citInitial": 1,
   "eqLabelWithNumbers": true,
   "eqNumInitial": 1,
   "hotkeys": {
    "equation": "Ctrl-E",
    "itemize": "Ctrl-I"
   },
   "labels_anchors": false,
   "latex_user_defs": false,
   "report_style_numbering": false,
   "user_envs_cfg": false
  },
  "varInspector": {
   "cols": {
    "lenName": 16,
    "lenType": 16,
    "lenVar": 40
   },
   "kernels_config": {
    "python": {
     "delete_cmd_postfix": "",
     "delete_cmd_prefix": "del ",
     "library": "var_list.py",
     "varRefreshCmd": "print(var_dic_list())"
    },
    "r": {
     "delete_cmd_postfix": ") ",
     "delete_cmd_prefix": "rm(",
     "library": "var_list.r",
     "varRefreshCmd": "cat(var_dic_list()) "
    }
   },
   "oldHeight": 313.03366,
   "position": {
    "height": "40px",
    "left": "1243.73px",
    "right": "20px",
    "top": "122.983px",
    "width": "523.05px"
   },
   "types_to_exclude": [
    "module",
    "function",
    "builtin_function_or_method",
    "instance",
    "_Feature"
   ],
   "varInspector_section_display": "none",
   "window_display": false
  }
 },
 "nbformat": 4,
 "nbformat_minor": 2
}
